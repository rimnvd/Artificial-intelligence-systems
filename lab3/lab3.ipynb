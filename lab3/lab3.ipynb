{
 "cells": [
  {
   "cell_type": "code",
   "execution_count": 714,
   "outputs": [],
   "source": [
    "import pandas as pd\n",
    "import numpy as np\n",
    "from sklearn.model_selection import train_test_split\n",
    "import matplotlib.pyplot as plt\n",
    "from math import log2, inf\n",
    "from random import randint"
   ],
   "metadata": {
    "collapsed": false,
    "pycharm": {
     "name": "#%%\n"
    }
   }
  },
  {
   "cell_type": "code",
   "execution_count": 715,
   "outputs": [],
   "source": [
    "class Node:\n",
    "    children: dict[str, \"Node\"]\n",
    "    parent: (\"Node\" or None)\n",
    "    attr: str\n",
    "    value: any\n",
    "    X: pd.Series\n",
    "    Y: pd.Series\n",
    "\n",
    "    def __init__(self, X=None, Y=None, parent=None, children=[], attr=None, value=None):\n",
    "        self.children = dict().fromkeys(children)\n",
    "        self.parent = parent\n",
    "        self.attr = attr\n",
    "        self.value = value\n",
    "        self.X = X\n",
    "        self.Y = Y\n",
    "\n",
    "    def get_attrs(self):\n",
    "        attrs = set()\n",
    "        if self.attr is not None:\n",
    "            attrs.add(self.attr)\n",
    "        node = self\n",
    "        while node.parent is not None:\n",
    "            node = node.parent\n",
    "            if node.attr is not None:\n",
    "                attrs.add(node.attr)\n",
    "        return np.array(attrs)"
   ],
   "metadata": {
    "collapsed": false,
    "pycharm": {
     "name": "#%%\n"
    }
   }
  },
  {
   "cell_type": "code",
   "execution_count": 716,
   "outputs": [],
   "source": [
    "data = pd.read_csv(\"DATA.csv\", sep=';')\n",
    "data.rename(columns={\"COURSE ID\" : \"31\"}, inplace = True)\n",
    "X_train, X_test, y_train, y_test = train_test_split(\n",
    "    data[data.columns.drop([\"STUDENT ID\", \"GRADE\"])], data[\"GRADE\"], test_size=0.2)"
   ],
   "metadata": {
    "collapsed": false,
    "pycharm": {
     "name": "#%%\n"
    }
   }
  },
  {
   "cell_type": "code",
   "execution_count": 717,
   "outputs": [],
   "source": [
    "def is_success(Y):\n",
    "    return Y > 3\n",
    "\n",
    "\n",
    "def get_info(T: pd.Series, Y: pd.Series):\n",
    "    entrophy = 0\n",
    "    success_freq = len(Y[is_success(Y)])\n",
    "    failed_freq = len(Y) - success_freq\n",
    "    if success_freq == 0 or failed_freq == 0:\n",
    "        return 0\n",
    "    entrophy -= success_freq / len(Y) * log2(success_freq / len(Y))\n",
    "    entrophy -= failed_freq / len(Y) * log2(failed_freq / len(Y))\n",
    "    return entrophy\n",
    "\n",
    "\n",
    "def get_info_x(T: pd.Series, Y: pd.Series, attr: str):\n",
    "    entrophy = 0\n",
    "    unique_values = np.unique(T[attr])\n",
    "    for value in unique_values:\n",
    "        T_i = T[T[attr] == value]\n",
    "        entrophy += len(T_i) / len(T) * get_info(T_i, Y[T[attr] == value])\n",
    "    return entrophy\n",
    "\n",
    "\n",
    "def get_split_info(T: pd.Series, Y: pd.Series, attr: str):\n",
    "    entrophy = 0\n",
    "    unique_values = np.unique(T[attr])\n",
    "    for value in unique_values:\n",
    "        T_i = T[T[attr] == value]\n",
    "        entrophy -= len(T_i) / len(T) * log2(len(T_i) / len(T))\n",
    "    return entrophy\n",
    "\n",
    "\n",
    "def get_gain_ratio(T: np.array, Y: np.array, attr: str):\n",
    "    split_info = get_split_info(T, Y, attr) + 0.00000000001\n",
    "    return (get_info(T, Y) - get_info_x(T, Y, attr)) / split_info\n",
    "\n",
    "\n",
    "def get_attr_with_max_gain_ratio(T, Y, attrs: set[str]):\n",
    "    max_gain_ratio = -inf\n",
    "    attr_with_max_gain_ratio = None\n",
    "    for attr in attrs:\n",
    "        gain_ratio = get_gain_ratio(T, Y, attr)\n",
    "        if gain_ratio > max_gain_ratio:\n",
    "            max_gain_ratio = gain_ratio\n",
    "            attr_with_max_gain_ratio = attr\n",
    "    return attr_with_max_gain_ratio"
   ],
   "metadata": {
    "collapsed": false,
    "pycharm": {
     "name": "#%%\n"
    }
   }
  },
  {
   "cell_type": "code",
   "execution_count": 718,
   "outputs": [],
   "source": [
    "class ClassifierByTree:\n",
    "\n",
    "    def __init__(self):\n",
    "        self.root = Node(None, None, None, [], None, None)\n",
    "\n",
    "    def learn(self, X, Y, attr_set):\n",
    "        nodes = [self.root]\n",
    "        self.root.X = X\n",
    "        self.root.Y = Y\n",
    "        i = 0\n",
    "        while i < len(nodes):\n",
    "            node = nodes[i]\n",
    "            i += 1\n",
    "            x = node.X\n",
    "            y = node.Y\n",
    "            if len(y) < 2:\n",
    "                continue\n",
    "            attrs = attr_set - node.get_attrs()\n",
    "            result_attr = get_attr_with_max_gain_ratio(x, y, attrs)\n",
    "            if result_attr is None:\n",
    "                continue\n",
    "            node.attr = result_attr\n",
    "            values = np.unique(x[result_attr])\n",
    "            for value in values:\n",
    "                rows_with_value = x[result_attr] == value\n",
    "                child = Node(x[rows_with_value], y[rows_with_value],\n",
    "                             node, [], None, value)\n",
    "                nodes.append(child)\n",
    "                node.children[value] = child\n",
    "\n",
    "    def proba(self, sample):\n",
    "        node = self.root\n",
    "        while node.attr is not None:\n",
    "            val = sample[node.attr]\n",
    "            if val not in node.children.keys():\n",
    "                break\n",
    "            node = node.children[val]\n",
    "        X = node.X\n",
    "        Y = node.Y\n",
    "        return len(Y[is_success(Y)]) / len(Y)\n",
    "\n",
    "    def get_root(self):\n",
    "        return self.root"
   ],
   "metadata": {
    "collapsed": false,
    "pycharm": {
     "name": "#%%\n"
    }
   }
  },
  {
   "cell_type": "code",
   "execution_count": 719,
   "outputs": [],
   "source": [
    "attrs_count = int(len(data) ** (1 / 2))\n",
    "attr_set = set()\n",
    "for i in range(attrs_count):\n",
    "    attr = randint(1, 31)\n",
    "    if attr in attr_set:\n",
    "        while attr in attr_set:\n",
    "            attr = randint(1, 31)\n",
    "    attr_set.add(attr)\n",
    "attr_set = set([str(attr) for attr in list(attr_set)])"
   ],
   "metadata": {
    "collapsed": false,
    "pycharm": {
     "name": "#%%\n"
    }
   }
  },
  {
   "cell_type": "code",
   "execution_count": 720,
   "outputs": [],
   "source": [
    "classifier_by_tree = ClassifierByTree()\n",
    "classifier_by_tree.learn(X_train, y_train, attr_set)"
   ],
   "metadata": {
    "collapsed": false,
    "pycharm": {
     "name": "#%%\n"
    }
   }
  },
  {
   "cell_type": "code",
   "execution_count": 721,
   "outputs": [],
   "source": [
    "def get_accuracy(tp, fp, tn, fn):\n",
    "    return (tp + tn) / (tp + fp + tn + fn)\n",
    "\n",
    "\n",
    "def get_precision(tp, fp):\n",
    "    return tp / (tp + fp)\n",
    "\n",
    "\n",
    "def get_recall(tp, fn):\n",
    "    return tp / (tp + fn)"
   ],
   "metadata": {
    "collapsed": false,
    "pycharm": {
     "name": "#%%\n"
    }
   }
  },
  {
   "cell_type": "code",
   "execution_count": 722,
   "outputs": [
    {
     "name": "stdout",
     "output_type": "stream",
     "text": [
      "count of samples: 29\n",
      "\tTrue Positive: 7\n",
      "\tFalse Negative: 4\n",
      "\tTrue Negative: 10\n",
      "\tFalse Negative: 8\n",
      "\n",
      "accuracy: 0.5862068965517241\n",
      "precision: 0.6363636363636364\n",
      "recall: 0.4666666666666667\n"
     ]
    }
   ],
   "source": [
    "y_pred = y_test.copy()\n",
    "rift = 0.5\n",
    "TP, FP, TN, FN = 0, 0, 0, 0\n",
    "for index in X_test.index:\n",
    "    sample = X_test.T[index]\n",
    "    origin_class = y_test[index]\n",
    "    pred_class = classifier_by_tree.proba(sample)\n",
    "    if origin_class > 3 and pred_class >= rift:\n",
    "        TP += 1\n",
    "    if origin_class > 3 and pred_class < rift:\n",
    "        FN += 1\n",
    "    if origin_class <= 3 and pred_class < rift:\n",
    "        TN += 1\n",
    "    if origin_class <= 3 and pred_class >= rift:\n",
    "        FP += 1\n",
    "    y_pred[index] = pred_class\n",
    "accuracy = get_accuracy(TP, FP, TN, FN)\n",
    "precision = get_precision(TP, FP)\n",
    "recall = get_recall(TP, FN)\n",
    "print(\n",
    "    f'count of samples: {len(X_test)}\\n\\tTrue Positive: {TP}\\n\\tFalse Negative: {FP}\\n\\tTrue Negative: {TN}\\n\\tFalse Negative: {FN}\\n')\n",
    "print(f'accuracy: {accuracy}\\nprecision: {precision}\\nrecall: {recall}')"
   ],
   "metadata": {
    "collapsed": false,
    "pycharm": {
     "name": "#%%\n"
    }
   }
  },
  {
   "cell_type": "code",
   "execution_count": 723,
   "outputs": [
    {
     "name": "stdout",
     "output_type": "stream",
     "text": [
      "(1, False, 1.0)\n",
      "(106, True, 1.0)\n",
      "(94, True, 1.0)\n",
      "(109, True, 1.0)\n",
      "(126, False, 1.0)\n",
      "(72, True, 1.0)\n",
      "(98, True, 1.0)\n",
      "(77, True, 1.0)\n",
      "(90, True, 1.0)\n",
      "(65, False, 0.5)\n",
      "(42, False, 0.5)\n",
      "(82, True, 0.0)\n",
      "(14, False, 0.0)\n",
      "(4, False, 0.0)\n",
      "(80, True, 0.0)\n",
      "(56, True, 0.0)\n",
      "(10, False, 0.0)\n",
      "(12, False, 0.0)\n",
      "(141, True, 0.0)\n",
      "(53, True, 0.0)\n",
      "(66, True, 0.0)\n",
      "(122, False, 0.0)\n",
      "(131, True, 0.0)\n",
      "(124, False, 0.0)\n",
      "(35, False, 0.0)\n",
      "(116, False, 0.0)\n",
      "(144, False, 0.0)\n",
      "(6, True, 0.0)\n",
      "(23, False, 0.0)\n",
      "14 15\n"
     ]
    }
   ],
   "source": [
    "ORIG_CLASS, PRED_CLASS = 1, 2\n",
    "results = []\n",
    "for index in y_pred.index:\n",
    "    results.append((\n",
    "        index,\n",
    "        y_test[index] > 3,\n",
    "        y_pred[index]\n",
    "    ))\n",
    "results.sort(key=lambda x: (x[PRED_CLASS]), reverse=True)\n",
    "for i in results:\n",
    "    print(i)\n",
    "list_precise = [1]\n",
    "list_recall = [0]\n",
    "list_tpr = [0]\n",
    "list_fpr = [0]\n",
    "number_p = sum([1 if i[ORIG_CLASS] else 0 for i in results])\n",
    "number_n = sum([1 if not i[ORIG_CLASS] else 0 for i in results])\n",
    "print(number_n, number_p)"
   ],
   "metadata": {
    "collapsed": false,
    "pycharm": {
     "name": "#%%\n"
    }
   }
  },
  {
   "cell_type": "code",
   "execution_count": 724,
   "outputs": [],
   "source": [
    "tp = 0\n",
    "fp = 0\n",
    "if results[0][ORIG_CLASS]:\n",
    "    tp = 1\n",
    "else:\n",
    "    fp = 1\n",
    "for i in range(1, number_p + number_n):\n",
    "    if results[i][ORIG_CLASS]:\n",
    "        tp += 1\n",
    "    else:\n",
    "        fp += 1\n",
    "    list_precise.append(tp / (tp + fp))\n",
    "    list_recall.append(tp / number_p)\n",
    "    list_tpr.append(tp / number_p)\n",
    "    list_fpr.append(fp / number_n)\n",
    "list_precise.append(0)\n",
    "list_recall.append(1)\n",
    "list_tpr.append(1)\n",
    "list_fpr.append(1)\n",
    "x = np.array(list_recall)\n",
    "y = np.array(list_precise)\n",
    "tpr = np.array(list_tpr)\n",
    "fpr = np.array(list_fpr)"
   ],
   "metadata": {
    "collapsed": false,
    "pycharm": {
     "name": "#%%\n"
    }
   }
  },
  {
   "cell_type": "code",
   "execution_count": 725,
   "outputs": [
    {
     "data": {
      "text/plain": "<Figure size 640x480 with 1 Axes>",
      "image/png": "[encoded data removed]"
     },
     "metadata": {},
     "output_type": "display_data"
    }
   ],
   "source": [
    "plt.plot(np.linspace(0, 1, 2), np.linspace(0, 1, 2), linewidth=2.0, linestyle=\"--\")\n",
    "plt.plot(fpr, tpr, label='ROC', linewidth=2.0)\n",
    "plt.grid()\n",
    "plt.xlabel(\"False Positive Rate\")\n",
    "plt.ylabel(\"True Positive Rate\")\n",
    "plt.legend()\n",
    "plt.xlim(0, 1)\n",
    "plt.ylim(0, 1)\n",
    "plt.title(\"ROC curve\")\n",
    "plt.savefig(\"auc-roc.png\")\n",
    "plt.show()"
   ],
   "metadata": {
    "collapsed": false,
    "pycharm": {
     "name": "#%%\n"
    }
   }
  },
  {
   "cell_type": "code",
   "execution_count": 726,
   "outputs": [
    {
     "data": {
      "text/plain": "<Figure size 640x480 with 1 Axes>",
      "image/png": "[encoded data removed]"
     },
     "metadata": {},
     "output_type": "display_data"
    }
   ],
   "source": [
    "plt.plot(x, y, label='PR', linewidth=2)\n",
    "plt.grid()\n",
    "plt.title(\"Precision-Recall curve\")\n",
    "plt.legend()\n",
    "plt.xlim(0, 1)\n",
    "plt.ylim(0, 1)\n",
    "plt.xlabel(\"Recall\")\n",
    "plt.ylabel(\"Precise\")\n",
    "plt.savefig(\"auc-pr.png\")\n",
    "plt.show()"
   ],
   "metadata": {
    "collapsed": false,
    "pycharm": {
     "name": "#%%\n"
    }
   }
  }
 ],
 "metadata": {
  "kernelspec": {
   "display_name": "Python 3",
   "language": "python",
   "name": "python3"
  },
  "language_info": {
   "codemirror_mode": {
    "name": "ipython",
    "version": 2
   },
   "file_extension": ".py",
   "mimetype": "text/x-python",
   "name": "python",
   "nbconvert_exporter": "python",
   "pygments_lexer": "ipython2",
   "version": "2.7.6"
  }
 },
 "nbformat": 4,
 "nbformat_minor": 0
}